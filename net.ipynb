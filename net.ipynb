{
 "cells": [
  {
   "cell_type": "code",
   "execution_count": 1,
   "metadata": {},
   "outputs": [],
   "source": [
    "import os\n",
    "import tensorflow as tf\n",
    "import numpy as np\n",
    "import matplotlib\n",
    "import json\n",
    "import string"
   ]
  },
  {
   "cell_type": "code",
   "execution_count": 2,
   "metadata": {},
   "outputs": [],
   "source": [
    "os.environ['TF_FORCE_GPU_ALLOW_GROWTH']='true'"
   ]
  },
  {
   "cell_type": "code",
   "execution_count": 3,
   "metadata": {},
   "outputs": [],
   "source": [
    "def encode_seq(data, length):\n",
    "    data = [dictionary.get(word) for word in data if word != '']\n",
    "    data = np.append(data, [-1 for i in range(length-len(data))])\n",
    "    return data\n",
    "\n",
    "def build_dictionary(data, index):\n",
    "    for line in data:\n",
    "        for word in line:\n",
    "            index = word2vec(word, index)\n",
    "    return index\n",
    "\n",
    "def word2vec(data, index):\n",
    "    if(data == ''):\n",
    "        return index\n",
    "    dictionary[data] = dictionary.get(data, index)\n",
    "    return (index+1) if dictionary[data] == index else index"
   ]
  },
  {
   "cell_type": "code",
   "execution_count": 20,
   "metadata": {},
   "outputs": [],
   "source": [
    "dictionary = dict()\n",
    "dictIndex = 0\n",
    "maxLength = 0\n",
    "\n",
    "dataX, dataY, evalX, evalY = [], [], [], []"
   ]
  },
  {
   "cell_type": "code",
   "execution_count": 21,
   "metadata": {},
   "outputs": [],
   "source": [
    "   # Read in the data\n",
    "    \n",
    "for line in open('data.json', 'r'):\n",
    "    data = json.loads(line)\n",
    "    dataX.append(data['reviewText'])\n",
    "    dataY.append(data['overall'])\n",
    "\n",
    "for line in open('eval.json', 'r'):\n",
    "    data = json.loads(line)\n",
    "    evalX.append(data['reviewText'])\n",
    "    evalY.append(data['overall'])\n",
    "        \n",
    "dataX = np.array(dataX)\n",
    "dataY = np.array(dataY)\n",
    "evalX = np.array(evalX)\n",
    "evalY = np.array(evalY)"
   ]
  },
  {
   "cell_type": "code",
   "execution_count": 22,
   "metadata": {},
   "outputs": [],
   "source": [
    "    \n",
    "# Remove punctuation and combine data\n",
    "dataX = np.char.lower(dataX)\n",
    "evalX = np.char.lower(evalX)\n",
    "\n",
    "dataX = [s.translate(str.maketrans('', '', string.punctuation)) for s in dataX]\n",
    "evalX = [s.translate(str.maketrans('', '', string.punctuation)) for s in evalX]\n",
    "\n",
    "dataX = [s.split(' ') for s in dataX]\n",
    "evalX = [s.split(' ') for s in evalX]\n",
    "\n",
    "dataX = np.array(dataX)\n",
    "evalX = np.array(evalX)\n",
    "\n",
    "combData = np.append(dataX, evalX)"
   ]
  },
  {
   "cell_type": "code",
   "execution_count": 23,
   "metadata": {},
   "outputs": [],
   "source": [
    "# Determine max length and build dictionary\n",
    "maxLength = int(np.max(np.array([len(s) for s in combData])))\n",
    "dictIndex = build_dictionary(dataX, dictIndex)\n",
    "dictIndex = build_dictionary(evalX, dictIndex)"
   ]
  },
  {
   "cell_type": "code",
   "execution_count": 24,
   "metadata": {},
   "outputs": [],
   "source": [
    "# Encode data for use\n",
    "dataX = np.array([encode_seq(line, maxLength) for line in dataX])\n",
    "evalX = np.array([encode_seq(line, maxLength) for line in evalX])\n",
    "\n",
    "dataY = tf.keras.utils.to_categorical(dataY)\n",
    "evalY = tf.keras.utils.to_categorical(evalY)"
   ]
  },
  {
   "cell_type": "code",
   "execution_count": 26,
   "metadata": {},
   "outputs": [
    {
     "name": "stdout",
     "output_type": "stream",
     "text": [
      "Model: \"sequential\"\n",
      "_________________________________________________________________\n",
      "Layer (type)                 Output Shape              Param #   \n",
      "=================================================================\n",
      "dense (Dense)                (None, 512)               1385472   \n",
      "_________________________________________________________________\n",
      "dropout (Dropout)            (None, 512)               0         \n",
      "_________________________________________________________________\n",
      "dense_1 (Dense)              (None, 512)               262656    \n",
      "_________________________________________________________________\n",
      "dropout_1 (Dropout)          (None, 512)               0         \n",
      "_________________________________________________________________\n",
      "dense_2 (Dense)              (None, 128)               65664     \n",
      "_________________________________________________________________\n",
      "dense_3 (Dense)              (None, 512)               66048     \n",
      "_________________________________________________________________\n",
      "dense_4 (Dense)              (None, 6)                 3078      \n",
      "=================================================================\n",
      "Total params: 1,782,918\n",
      "Trainable params: 1,782,918\n",
      "Non-trainable params: 0\n",
      "_________________________________________________________________\n"
     ]
    }
   ],
   "source": [
    "# Compile the model\n",
    "model = tf.keras.Sequential()\n",
    "\n",
    "model.add(tf.keras.layers.Dense(512, activation='relu', input_shape=(maxLength,)))\n",
    "model.add(tf.keras.layers.Dropout(0.2))\n",
    "model.add(tf.keras.layers.Dense(512, activation='relu'))\n",
    "model.add(tf.keras.layers.Dropout(0.3))\n",
    "model.add(tf.keras.layers.Dense(128, activation='relu'))\n",
    "model.add(tf.keras.layers.Dense(512, activation='tanh'))\n",
    "model.add(tf.keras.layers.Dense(evalY.shape[1], activation='softmax'))\n",
    "\n",
    "model.compile(loss=tf.keras.losses.categorical_crossentropy,\n",
    "            optimizer=tf.keras.optimizers.Nadam(),\n",
    "            metrics=['accuracy'])\n",
    "\n",
    "model.summary()"
   ]
  },
  {
   "cell_type": "code",
   "execution_count": 28,
   "metadata": {},
   "outputs": [
    {
     "name": "stdout",
     "output_type": "stream",
     "text": [
      "63/63 [==============================] - 0s 2ms/step - loss: 1.1082 - accuracy: 0.6090\n"
     ]
    },
    {
     "data": {
      "text/plain": [
       "[1.1082302331924438, 0.609000027179718]"
      ]
     },
     "execution_count": 28,
     "metadata": {},
     "output_type": "execute_result"
    }
   ],
   "source": [
    "# Training\n",
    "\n",
    "batch_size = 100\n",
    "epochs = 1500\n",
    "val_split = 0.2\n",
    "\n",
    "history = model.fit(dataX, dataY,\n",
    "                    batch_size=batch_size,\n",
    "                    epochs=epochs,\n",
    "                    validation_split=val_split,\n",
    "                    verbose=0)\n",
    "\n",
    "model.evaluate(evalX, evalY)"
   ]
  },
  {
   "cell_type": "code",
   "execution_count": 31,
   "metadata": {},
   "outputs": [
    {
     "name": "stdout",
     "output_type": "stream",
     "text": [
      "Actual: 5\n",
      "Net: 5\n",
      "Actual: 5\n",
      "Net: 5\n",
      "Actual: 5\n",
      "Net: 5\n",
      "Actual: 5\n",
      "Net: 5\n",
      "Actual: 5\n",
      "Net: 5\n",
      "Actual: 5\n",
      "Net: 5\n",
      "Actual: 5\n",
      "Net: 5\n",
      "Actual: 4\n",
      "Net: 5\n",
      "Actual: 4\n",
      "Net: 5\n",
      "Actual: 5\n",
      "Net: 5\n",
      "Actual: 4\n",
      "Net: 5\n",
      "Actual: 5\n",
      "Net: 5\n",
      "Actual: 5\n",
      "Net: 5\n",
      "Actual: 5\n",
      "Net: 5\n",
      "Actual: 4\n",
      "Net: 5\n",
      "Actual: 5\n",
      "Net: 5\n",
      "Actual: 5\n",
      "Net: 5\n",
      "Actual: 4\n",
      "Net: 5\n",
      "Actual: 5\n",
      "Net: 5\n",
      "Actual: 5\n",
      "Net: 5\n"
     ]
    }
   ],
   "source": [
    "# Visual Evaluation \n",
    "\n",
    "test = evalX[0:20]\n",
    "out = model.predict(evalX)\n",
    "\n",
    "for i in range(20):\n",
    "        print(\"Actual:\", np.argmax(evalY[i]))\n",
    "        print(\"Net:\",np.argmax(out[i]))"
   ]
  },
  {
   "cell_type": "code",
   "execution_count": null,
   "metadata": {},
   "outputs": [],
   "source": []
  }
 ],
 "metadata": {
  "kernelspec": {
   "display_name": "Python 3",
   "language": "python",
   "name": "python3"
  },
  "language_info": {
   "codemirror_mode": {
    "name": "ipython",
    "version": 3
   },
   "file_extension": ".py",
   "mimetype": "text/x-python",
   "name": "python",
   "nbconvert_exporter": "python",
   "pygments_lexer": "ipython3",
   "version": "3.8.2"
  }
 },
 "nbformat": 4,
 "nbformat_minor": 2
}
